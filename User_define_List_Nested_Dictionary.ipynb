{
 "cells": [
  {
   "cell_type": "code",
   "execution_count": 7,
   "metadata": {},
   "outputs": [
    {
     "name": "stdout",
     "output_type": "stream",
     "text": [
      "Enter student name :Hafiz Manfaz Ali\n",
      "Enter marks :78\n",
      "Enter Subject :Urdu\n",
      "Enter marks :85\n",
      "Enter Subject :Math\n",
      "Enter marks :English\n",
      "Enter Subject :67\n",
      "Enter skills :Book Reading\n",
      "Enter skills :Travling\n",
      "Enter skills :Programming\n",
      "Are you want continue y/n ? :n\n",
      "[{'name': 'Hafiz Manfaz Ali', 'marks': {'Urdu': '78', 'Math': '85', '67': 'English'}, 'skills': ['Book Reading', 'Travling', 'Programming']}]\n"
     ]
    }
   ],
   "source": [
    "main_list = []\n",
    "exit = \"\"\n",
    "while (exit != \"n\"):\n",
    "    main_dict = {}\n",
    "    main_dict[\"name\"]= input(\"Enter student name :\")\n",
    "    main_dict[\"marks\"]= {input(\"Enter Subject :\"):input(\"Enter marks :\") for i in range(0,3)}   \n",
    "    main_dict[\"skills\"]=[input(\"Enter skills :\")for i in range(0,3)]\n",
    "    main_list.append(main_dict)\n",
    "    exit = input(\"Are you want continue y/n ? :\")\n",
    "print(main_list)"
   ]
  },
  {
   "cell_type": "code",
   "execution_count": 5,
   "metadata": {},
   "outputs": [
    {
     "name": "stdout",
     "output_type": "stream",
     "text": [
      "[{}, {}]\n"
     ]
    }
   ],
   "source": [
    "print(main_list)"
   ]
  },
  {
   "cell_type": "code",
   "execution_count": null,
   "metadata": {},
   "outputs": [],
   "source": []
  }
 ],
 "metadata": {
  "kernelspec": {
   "display_name": "Python 3",
   "language": "python",
   "name": "python3"
  },
  "language_info": {
   "codemirror_mode": {
    "name": "ipython",
    "version": 3
   },
   "file_extension": ".py",
   "mimetype": "text/x-python",
   "name": "python",
   "nbconvert_exporter": "python",
   "pygments_lexer": "ipython3",
   "version": "3.7.4"
  }
 },
 "nbformat": 4,
 "nbformat_minor": 2
}
